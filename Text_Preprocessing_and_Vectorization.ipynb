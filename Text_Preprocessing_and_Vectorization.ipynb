{
  "nbformat": 4,
  "nbformat_minor": 0,
  "metadata": {
    "colab": {
      "provenance": [],
      "authorship_tag": "ABX9TyM9ra/P/dF8hI71DU0Wd993",
      "include_colab_link": true
    },
    "kernelspec": {
      "name": "python3",
      "display_name": "Python 3"
    },
    "language_info": {
      "name": "python"
    }
  },
  "cells": [
    {
      "cell_type": "markdown",
      "metadata": {
        "id": "view-in-github",
        "colab_type": "text"
      },
      "source": [
        "<a href=\"https://colab.research.google.com/github/sudeepbhagat11/Text-Preprocessing-and-Vectorization/blob/main/Text_Preprocessing_and_Vectorization.ipynb\" target=\"_parent\"><img src=\"https://colab.research.google.com/assets/colab-badge.svg\" alt=\"Open In Colab\"/></a>"
      ]
    },
    {
      "cell_type": "code",
      "execution_count": 1,
      "metadata": {
        "colab": {
          "base_uri": "https://localhost:8080/"
        },
        "id": "kTL9Ia3ABfHG",
        "outputId": "c7502f23-559c-4dea-a094-0da1873b0c39"
      },
      "outputs": [
        {
          "output_type": "stream",
          "name": "stdout",
          "text": [
            "Requirement already satisfied: nltk in /usr/local/lib/python3.10/dist-packages (3.8.1)\n",
            "Requirement already satisfied: click in /usr/local/lib/python3.10/dist-packages (from nltk) (8.1.7)\n",
            "Requirement already satisfied: joblib in /usr/local/lib/python3.10/dist-packages (from nltk) (1.4.2)\n",
            "Requirement already satisfied: regex>=2021.8.3 in /usr/local/lib/python3.10/dist-packages (from nltk) (2024.5.15)\n",
            "Requirement already satisfied: tqdm in /usr/local/lib/python3.10/dist-packages (from nltk) (4.66.4)\n"
          ]
        }
      ],
      "source": [
        "!pip install nltk"
      ]
    },
    {
      "cell_type": "code",
      "source": [
        "\n",
        "# corpus\n",
        "paragraph = \"\"\"Contrary to popular belief, Lorem Ipsum is not simply random text. It has roots in a piece of classical Latin literature from 45 BC, making it over 2000 years old. Richard McClintock, a Latin professor at Hampden-Sydney College in Virginia, looked up one of the more obscure Latin words, consectetur, from a Lorem Ipsum passage, and going through the cites of the word in classical literature, discovered the undoubtable source. Lorem Ipsum comes from sections 1.10.32 and 1.10.33 of \"de Finibus Bonorum et Malorum\" (The Extremes of Good and Evil) by Cicero, written in 45 BC. This book is a treatise on the theory of ethics, very popular during the Renaissance. The first line of Lorem Ipsum, \"Lorem ipsum dolor sit amet..\", comes from a line in section 1.10.32.\n",
        "\n",
        "The standard chunk of Lorem Ipsum used since the 1500s is reproduced below for those interested. Sections 1.10.32 and 1.10.33 from \"de Finibus Bonorum et Malorum\" by Cicero are also reproduced in their exact original form, accompanied by English versions from the 1914 translation by H. Rackham.\"\"\""
      ],
      "metadata": {
        "id": "Efk8pBpGB0XK"
      },
      "execution_count": 2,
      "outputs": []
    },
    {
      "cell_type": "code",
      "source": [
        "import nltk\n",
        "from nltk.stem import PorterStemmer\n",
        "from nltk.corpus import stopwords"
      ],
      "metadata": {
        "id": "D1Vww1uuBiPd"
      },
      "execution_count": 3,
      "outputs": []
    },
    {
      "cell_type": "code",
      "source": [
        "paragraph"
      ],
      "metadata": {
        "colab": {
          "base_uri": "https://localhost:8080/",
          "height": 105
        },
        "id": "Rd7Qe-Y8B5GF",
        "outputId": "a52a33b3-b803-4e9e-c27b-1cc42f7feff8"
      },
      "execution_count": 4,
      "outputs": [
        {
          "output_type": "execute_result",
          "data": {
            "text/plain": [
              "'Contrary to popular belief, Lorem Ipsum is not simply random text. It has roots in a piece of classical Latin literature from 45 BC, making it over 2000 years old. Richard McClintock, a Latin professor at Hampden-Sydney College in Virginia, looked up one of the more obscure Latin words, consectetur, from a Lorem Ipsum passage, and going through the cites of the word in classical literature, discovered the undoubtable source. Lorem Ipsum comes from sections 1.10.32 and 1.10.33 of \"de Finibus Bonorum et Malorum\" (The Extremes of Good and Evil) by Cicero, written in 45 BC. This book is a treatise on the theory of ethics, very popular during the Renaissance. The first line of Lorem Ipsum, \"Lorem ipsum dolor sit amet..\", comes from a line in section 1.10.32.\\n\\nThe standard chunk of Lorem Ipsum used since the 1500s is reproduced below for those interested. Sections 1.10.32 and 1.10.33 from \"de Finibus Bonorum et Malorum\" by Cicero are also reproduced in their exact original form, accompanied by English versions from the 1914 translation by H. Rackham.'"
            ],
            "application/vnd.google.colaboratory.intrinsic+json": {
              "type": "string"
            }
          },
          "metadata": {},
          "execution_count": 4
        }
      ]
    },
    {
      "cell_type": "code",
      "source": [
        "### convert paragraph-sentences-words\n",
        "nltk.download('punkt')\n",
        "sentences = nltk.sent_tokenize(paragraph)"
      ],
      "metadata": {
        "colab": {
          "base_uri": "https://localhost:8080/"
        },
        "id": "iwHkPDDGBy0r",
        "outputId": "5a9263e5-1091-4fe2-b1b1-70ec85c743b6"
      },
      "execution_count": 5,
      "outputs": [
        {
          "output_type": "stream",
          "name": "stderr",
          "text": [
            "[nltk_data] Downloading package punkt to /root/nltk_data...\n",
            "[nltk_data]   Unzipping tokenizers/punkt.zip.\n"
          ]
        }
      ]
    },
    {
      "cell_type": "code",
      "source": [
        "print(sentences)"
      ],
      "metadata": {
        "colab": {
          "base_uri": "https://localhost:8080/"
        },
        "id": "ZM2RBJViCu2g",
        "outputId": "921df359-c50a-401b-8247-10cd825225f4"
      },
      "execution_count": 6,
      "outputs": [
        {
          "output_type": "stream",
          "name": "stdout",
          "text": [
            "['Contrary to popular belief, Lorem Ipsum is not simply random text.', 'It has roots in a piece of classical Latin literature from 45 BC, making it over 2000 years old.', 'Richard McClintock, a Latin professor at Hampden-Sydney College in Virginia, looked up one of the more obscure Latin words, consectetur, from a Lorem Ipsum passage, and going through the cites of the word in classical literature, discovered the undoubtable source.', 'Lorem Ipsum comes from sections 1.10.32 and 1.10.33 of \"de Finibus Bonorum et Malorum\" (The Extremes of Good and Evil) by Cicero, written in 45 BC.', 'This book is a treatise on the theory of ethics, very popular during the Renaissance.', 'The first line of Lorem Ipsum, \"Lorem ipsum dolor sit amet..\", comes from a line in section 1.10.32.', 'The standard chunk of Lorem Ipsum used since the 1500s is reproduced below for those interested.', 'Sections 1.10.32 and 1.10.33 from \"de Finibus Bonorum et Malorum\" by Cicero are also reproduced in their exact original form, accompanied by English versions from the 1914 translation by H. Rackham.']\n"
          ]
        }
      ]
    },
    {
      "cell_type": "code",
      "source": [
        "stemmer = PorterStemmer()"
      ],
      "metadata": {
        "id": "DikIWq2TC3hu"
      },
      "execution_count": 7,
      "outputs": []
    },
    {
      "cell_type": "code",
      "source": [
        "stemmer.stem('watching')"
      ],
      "metadata": {
        "colab": {
          "base_uri": "https://localhost:8080/",
          "height": 35
        },
        "id": "CvLJ-i92DQdh",
        "outputId": "0b3bff41-87f8-48d7-9bd5-a2d7d454e971"
      },
      "execution_count": 8,
      "outputs": [
        {
          "output_type": "execute_result",
          "data": {
            "text/plain": [
              "'watch'"
            ],
            "application/vnd.google.colaboratory.intrinsic+json": {
              "type": "string"
            }
          },
          "metadata": {},
          "execution_count": 8
        }
      ]
    },
    {
      "cell_type": "code",
      "source": [
        "from nltk.stem import WordNetLemmatizer\n",
        "nltk.download('wordnet')\n",
        "lemmatizer = WordNetLemmatizer()\n"
      ],
      "metadata": {
        "colab": {
          "base_uri": "https://localhost:8080/"
        },
        "id": "E1DaScEKDXiH",
        "outputId": "91ecd9b2-0e22-44b1-c0da-5b7c777abc9e"
      },
      "execution_count": 9,
      "outputs": [
        {
          "output_type": "stream",
          "name": "stderr",
          "text": [
            "[nltk_data] Downloading package wordnet to /root/nltk_data...\n"
          ]
        }
      ]
    },
    {
      "cell_type": "code",
      "source": [
        "lemmatizer.lemmatize('watching')"
      ],
      "metadata": {
        "colab": {
          "base_uri": "https://localhost:8080/",
          "height": 35
        },
        "id": "SN1JKLLlD6wY",
        "outputId": "87d4c5a2-7b01-4ebe-d6cd-092aad4c32fb"
      },
      "execution_count": 10,
      "outputs": [
        {
          "output_type": "execute_result",
          "data": {
            "text/plain": [
              "'watching'"
            ],
            "application/vnd.google.colaboratory.intrinsic+json": {
              "type": "string"
            }
          },
          "metadata": {},
          "execution_count": 10
        }
      ]
    },
    {
      "cell_type": "code",
      "source": [
        "# re --> regular expression\n",
        "import re\n",
        "corpus = []\n",
        "\n",
        "for i in range(len(sentences)):\n",
        "  review = re.sub('[^a-zA-Z]', ' ', sentences[i])\n",
        "  review = review.lower()\n",
        "  # review = review.split()\n",
        "  corpus.append(review)"
      ],
      "metadata": {
        "id": "xIYwttMFD_br"
      },
      "execution_count": 11,
      "outputs": []
    },
    {
      "cell_type": "code",
      "source": [
        "corpus"
      ],
      "metadata": {
        "colab": {
          "base_uri": "https://localhost:8080/"
        },
        "id": "YjK-BfN8FtbH",
        "outputId": "4dee09bc-6938-4e1f-df7d-a14c751f3053"
      },
      "execution_count": 12,
      "outputs": [
        {
          "output_type": "execute_result",
          "data": {
            "text/plain": [
              "['contrary to popular belief  lorem ipsum is not simply random text ',\n",
              " 'it has roots in a piece of classical latin literature from    bc  making it over      years old ',\n",
              " 'richard mcclintock  a latin professor at hampden sydney college in virginia  looked up one of the more obscure latin words  consectetur  from a lorem ipsum passage  and going through the cites of the word in classical literature  discovered the undoubtable source ',\n",
              " 'lorem ipsum comes from sections         and         of  de finibus bonorum et malorum   the extremes of good and evil  by cicero  written in    bc ',\n",
              " 'this book is a treatise on the theory of ethics  very popular during the renaissance ',\n",
              " 'the first line of lorem ipsum   lorem ipsum dolor sit amet     comes from a line in section         ',\n",
              " 'the standard chunk of lorem ipsum used since the     s is reproduced below for those interested ',\n",
              " 'sections         and         from  de finibus bonorum et malorum  by cicero are also reproduced in their exact original form  accompanied by english versions from the      translation by h  rackham ']"
            ]
          },
          "metadata": {},
          "execution_count": 12
        }
      ]
    },
    {
      "cell_type": "code",
      "source": [
        "## stemming\n",
        "\n",
        "nltk.download('stopwords')\n",
        "\n",
        "for i in corpus:\n",
        "  words = nltk.word_tokenize(i)\n",
        "  for word in words:\n",
        "    if word not in set(stopwords.words('english')):\n",
        "      print(stemmer.stem(word))"
      ],
      "metadata": {
        "colab": {
          "base_uri": "https://localhost:8080/"
        },
        "id": "mC32f616F1DL",
        "outputId": "0d31f269-3b36-40f1-dd54-3909af7bea2f"
      },
      "execution_count": 13,
      "outputs": [
        {
          "output_type": "stream",
          "name": "stdout",
          "text": [
            "contrari\n",
            "popular\n",
            "belief\n",
            "lorem\n",
            "ipsum\n",
            "simpli\n",
            "random\n",
            "text\n",
            "root\n",
            "piec\n",
            "classic\n",
            "latin\n",
            "literatur\n",
            "bc\n",
            "make\n",
            "year\n",
            "old\n",
            "richard\n",
            "mcclintock\n",
            "latin\n",
            "professor\n",
            "hampden\n",
            "sydney\n",
            "colleg\n",
            "virginia\n",
            "look\n",
            "one\n",
            "obscur\n",
            "latin\n",
            "word\n",
            "consectetur\n",
            "lorem\n",
            "ipsum\n",
            "passag\n",
            "go\n",
            "cite\n",
            "word\n",
            "classic\n",
            "literatur\n",
            "discov\n",
            "undoubt\n",
            "sourc\n",
            "lorem\n",
            "ipsum\n",
            "come\n",
            "section\n",
            "de\n",
            "finibu\n",
            "bonorum\n",
            "et\n",
            "malorum\n",
            "extrem\n",
            "good\n",
            "evil\n",
            "cicero\n",
            "written\n",
            "bc\n",
            "book\n",
            "treatis\n",
            "theori\n",
            "ethic\n",
            "popular\n",
            "renaiss\n",
            "first\n",
            "line\n",
            "lorem\n",
            "ipsum\n",
            "lorem\n",
            "ipsum\n",
            "dolor\n",
            "sit\n",
            "amet\n",
            "come\n",
            "line\n",
            "section\n",
            "standard\n",
            "chunk\n",
            "lorem\n",
            "ipsum\n",
            "use\n",
            "sinc\n",
            "reproduc\n",
            "interest\n",
            "section\n",
            "de\n",
            "finibu\n",
            "bonorum\n",
            "et\n",
            "malorum\n",
            "cicero\n",
            "also\n",
            "reproduc\n",
            "exact\n",
            "origin\n",
            "form\n",
            "accompani\n",
            "english\n",
            "version\n",
            "translat\n",
            "h\n",
            "rackham\n"
          ]
        },
        {
          "output_type": "stream",
          "name": "stderr",
          "text": [
            "[nltk_data] Downloading package stopwords to /root/nltk_data...\n",
            "[nltk_data]   Unzipping corpora/stopwords.zip.\n"
          ]
        }
      ]
    },
    {
      "cell_type": "code",
      "source": [
        "## lemmatization\n",
        "\n",
        "\n",
        "for i in corpus:\n",
        "  words = nltk.word_tokenize(i)\n",
        "  for word in words:\n",
        "    if word not in set(stopwords.words('english')):\n",
        "      print(lemmatizer.lemmatize(word))"
      ],
      "metadata": {
        "colab": {
          "base_uri": "https://localhost:8080/"
        },
        "id": "GXhNLSI8Gh4r",
        "outputId": "af0ddbc9-f99d-4a2b-b8e6-a767cb69dd6d"
      },
      "execution_count": 14,
      "outputs": [
        {
          "output_type": "stream",
          "name": "stdout",
          "text": [
            "contrary\n",
            "popular\n",
            "belief\n",
            "lorem\n",
            "ipsum\n",
            "simply\n",
            "random\n",
            "text\n",
            "root\n",
            "piece\n",
            "classical\n",
            "latin\n",
            "literature\n",
            "bc\n",
            "making\n",
            "year\n",
            "old\n",
            "richard\n",
            "mcclintock\n",
            "latin\n",
            "professor\n",
            "hampden\n",
            "sydney\n",
            "college\n",
            "virginia\n",
            "looked\n",
            "one\n",
            "obscure\n",
            "latin\n",
            "word\n",
            "consectetur\n",
            "lorem\n",
            "ipsum\n",
            "passage\n",
            "going\n",
            "cite\n",
            "word\n",
            "classical\n",
            "literature\n",
            "discovered\n",
            "undoubtable\n",
            "source\n",
            "lorem\n",
            "ipsum\n",
            "come\n",
            "section\n",
            "de\n",
            "finibus\n",
            "bonorum\n",
            "et\n",
            "malorum\n",
            "extreme\n",
            "good\n",
            "evil\n",
            "cicero\n",
            "written\n",
            "bc\n",
            "book\n",
            "treatise\n",
            "theory\n",
            "ethic\n",
            "popular\n",
            "renaissance\n",
            "first\n",
            "line\n",
            "lorem\n",
            "ipsum\n",
            "lorem\n",
            "ipsum\n",
            "dolor\n",
            "sit\n",
            "amet\n",
            "come\n",
            "line\n",
            "section\n",
            "standard\n",
            "chunk\n",
            "lorem\n",
            "ipsum\n",
            "used\n",
            "since\n",
            "reproduced\n",
            "interested\n",
            "section\n",
            "de\n",
            "finibus\n",
            "bonorum\n",
            "et\n",
            "malorum\n",
            "cicero\n",
            "also\n",
            "reproduced\n",
            "exact\n",
            "original\n",
            "form\n",
            "accompanied\n",
            "english\n",
            "version\n",
            "translation\n",
            "h\n",
            "rackham\n"
          ]
        }
      ]
    },
    {
      "cell_type": "code",
      "source": [
        "# Bag of Words\n",
        "from sklearn.feature_extraction.text import CountVectorizer\n",
        "\n",
        "# # for bag of words\n",
        "# cv = CountVectorizer()\n",
        "\n",
        "# for binary bag of words\n",
        "cv = CountVectorizer(binary=True,ngram_range=(2,3))\n",
        "\n",
        "\n",
        "\n"
      ],
      "metadata": {
        "id": "xtNlaMm2HUrA"
      },
      "execution_count": 25,
      "outputs": []
    },
    {
      "cell_type": "code",
      "source": [
        "C = cv.fit_transform(corpus).toarray()"
      ],
      "metadata": {
        "id": "9Why3GfyJQLA"
      },
      "execution_count": 26,
      "outputs": []
    },
    {
      "cell_type": "code",
      "source": [
        "cv.vocabulary_"
      ],
      "metadata": {
        "colab": {
          "base_uri": "https://localhost:8080/"
        },
        "id": "HFHsB9rYJT0d",
        "outputId": "920aed55-7262-410e-ea5d-5a29e94c4f0f"
      },
      "execution_count": 27,
      "outputs": [
        {
          "output_type": "execute_result",
          "data": {
            "text/plain": [
              "{'contrary to': 53,\n",
              " 'to popular': 256,\n",
              " 'popular belief': 198,\n",
              " 'belief lorem': 20,\n",
              " 'lorem ipsum': 152,\n",
              " 'ipsum is': 118,\n",
              " 'is not': 126,\n",
              " 'not simply': 169,\n",
              " 'simply random': 216,\n",
              " 'random text': 204,\n",
              " 'contrary to popular': 54,\n",
              " 'to popular belief': 257,\n",
              " 'popular belief lorem': 199,\n",
              " 'belief lorem ipsum': 21,\n",
              " 'lorem ipsum is': 155,\n",
              " 'ipsum is not': 119,\n",
              " 'is not simply': 127,\n",
              " 'not simply random': 170,\n",
              " 'simply random text': 217,\n",
              " 'it has': 132,\n",
              " 'has roots': 102,\n",
              " 'roots in': 211,\n",
              " 'in piece': 107,\n",
              " 'piece of': 196,\n",
              " 'of classical': 173,\n",
              " 'classical latin': 42,\n",
              " 'latin literature': 136,\n",
              " 'literature from': 148,\n",
              " 'from bc': 84,\n",
              " 'bc making': 18,\n",
              " 'making it': 159,\n",
              " 'it over': 134,\n",
              " 'over years': 192,\n",
              " 'years old': 279,\n",
              " 'it has roots': 133,\n",
              " 'has roots in': 103,\n",
              " 'roots in piece': 212,\n",
              " 'in piece of': 108,\n",
              " 'piece of classical': 197,\n",
              " 'of classical latin': 174,\n",
              " 'classical latin literature': 43,\n",
              " 'latin literature from': 137,\n",
              " 'literature from bc': 149,\n",
              " 'from bc making': 85,\n",
              " 'bc making it': 19,\n",
              " 'making it over': 160,\n",
              " 'it over years': 135,\n",
              " 'over years old': 193,\n",
              " 'richard mcclintock': 209,\n",
              " 'mcclintock latin': 165,\n",
              " 'latin professor': 138,\n",
              " 'professor at': 202,\n",
              " 'at hampden': 16,\n",
              " 'hampden sydney': 100,\n",
              " 'sydney college': 224,\n",
              " 'college in': 46,\n",
              " 'in virginia': 112,\n",
              " 'virginia looked': 271,\n",
              " 'looked up': 150,\n",
              " 'up one': 263,\n",
              " 'one of': 188,\n",
              " 'of the': 183,\n",
              " 'the more': 234,\n",
              " 'more obscure': 167,\n",
              " 'obscure latin': 171,\n",
              " 'latin words': 140,\n",
              " 'words consectetur': 275,\n",
              " 'consectetur from': 51,\n",
              " 'from lorem': 90,\n",
              " 'ipsum passage': 122,\n",
              " 'passage and': 194,\n",
              " 'and going': 10,\n",
              " 'going through': 96,\n",
              " 'through the': 254,\n",
              " 'the cites': 226,\n",
              " 'cites of': 40,\n",
              " 'the word': 245,\n",
              " 'word in': 273,\n",
              " 'in classical': 105,\n",
              " 'classical literature': 44,\n",
              " 'literature discovered': 146,\n",
              " 'discovered the': 57,\n",
              " 'the undoubtable': 243,\n",
              " 'undoubtable source': 262,\n",
              " 'richard mcclintock latin': 210,\n",
              " 'mcclintock latin professor': 166,\n",
              " 'latin professor at': 139,\n",
              " 'professor at hampden': 203,\n",
              " 'at hampden sydney': 17,\n",
              " 'hampden sydney college': 101,\n",
              " 'sydney college in': 225,\n",
              " 'college in virginia': 47,\n",
              " 'in virginia looked': 113,\n",
              " 'virginia looked up': 272,\n",
              " 'looked up one': 151,\n",
              " 'up one of': 264,\n",
              " 'one of the': 189,\n",
              " 'of the more': 184,\n",
              " 'the more obscure': 235,\n",
              " 'more obscure latin': 168,\n",
              " 'obscure latin words': 172,\n",
              " 'latin words consectetur': 141,\n",
              " 'words consectetur from': 276,\n",
              " 'consectetur from lorem': 52,\n",
              " 'from lorem ipsum': 91,\n",
              " 'lorem ipsum passage': 157,\n",
              " 'ipsum passage and': 123,\n",
              " 'passage and going': 195,\n",
              " 'and going through': 11,\n",
              " 'going through the': 97,\n",
              " 'through the cites': 255,\n",
              " 'the cites of': 227,\n",
              " 'cites of the': 41,\n",
              " 'of the word': 185,\n",
              " 'the word in': 246,\n",
              " 'word in classical': 274,\n",
              " 'in classical literature': 106,\n",
              " 'classical literature discovered': 45,\n",
              " 'literature discovered the': 147,\n",
              " 'discovered the undoubtable': 58,\n",
              " 'the undoubtable source': 244,\n",
              " 'ipsum comes': 114,\n",
              " 'comes from': 48,\n",
              " 'from sections': 92,\n",
              " 'sections and': 213,\n",
              " 'and of': 12,\n",
              " 'of de': 175,\n",
              " 'de finibus': 55,\n",
              " 'finibus bonorum': 76,\n",
              " 'bonorum et': 24,\n",
              " 'et malorum': 65,\n",
              " 'malorum the': 163,\n",
              " 'the extremes': 228,\n",
              " 'extremes of': 74,\n",
              " 'of good': 179,\n",
              " 'good and': 98,\n",
              " 'and evil': 6,\n",
              " 'evil by': 70,\n",
              " 'by cicero': 28,\n",
              " 'cicero written': 38,\n",
              " 'written in': 277,\n",
              " 'in bc': 104,\n",
              " 'lorem ipsum comes': 153,\n",
              " 'ipsum comes from': 115,\n",
              " 'comes from sections': 50,\n",
              " 'from sections and': 93,\n",
              " 'sections and of': 215,\n",
              " 'and of de': 13,\n",
              " 'of de finibus': 176,\n",
              " 'de finibus bonorum': 56,\n",
              " 'finibus bonorum et': 77,\n",
              " 'bonorum et malorum': 25,\n",
              " 'et malorum the': 67,\n",
              " 'malorum the extremes': 164,\n",
              " 'the extremes of': 229,\n",
              " 'extremes of good': 75,\n",
              " 'of good and': 180,\n",
              " 'good and evil': 99,\n",
              " 'and evil by': 7,\n",
              " 'evil by cicero': 71,\n",
              " 'by cicero written': 30,\n",
              " 'cicero written in': 39,\n",
              " 'written in bc': 278,\n",
              " 'this book': 251,\n",
              " 'book is': 26,\n",
              " 'is treatise': 130,\n",
              " 'treatise on': 260,\n",
              " 'on the': 186,\n",
              " 'the theory': 239,\n",
              " 'theory of': 249,\n",
              " 'of ethics': 177,\n",
              " 'ethics very': 68,\n",
              " 'very popular': 269,\n",
              " 'popular during': 200,\n",
              " 'during the': 61,\n",
              " 'the renaissance': 236,\n",
              " 'this book is': 252,\n",
              " 'book is treatise': 27,\n",
              " 'is treatise on': 131,\n",
              " 'treatise on the': 261,\n",
              " 'on the theory': 187,\n",
              " 'the theory of': 240,\n",
              " 'theory of ethics': 250,\n",
              " 'of ethics very': 178,\n",
              " 'ethics very popular': 69,\n",
              " 'very popular during': 270,\n",
              " 'popular during the': 201,\n",
              " 'during the renaissance': 62,\n",
              " 'the first': 230,\n",
              " 'first line': 78,\n",
              " 'line of': 144,\n",
              " 'of lorem': 181,\n",
              " 'ipsum lorem': 120,\n",
              " 'ipsum dolor': 116,\n",
              " 'dolor sit': 59,\n",
              " 'sit amet': 220,\n",
              " 'amet comes': 4,\n",
              " 'from line': 88,\n",
              " 'line in': 142,\n",
              " 'in section': 109,\n",
              " 'the first line': 231,\n",
              " 'first line of': 79,\n",
              " 'line of lorem': 145,\n",
              " 'of lorem ipsum': 182,\n",
              " 'lorem ipsum lorem': 156,\n",
              " 'ipsum lorem ipsum': 121,\n",
              " 'lorem ipsum dolor': 154,\n",
              " 'ipsum dolor sit': 117,\n",
              " 'dolor sit amet': 60,\n",
              " 'sit amet comes': 221,\n",
              " 'amet comes from': 5,\n",
              " 'comes from line': 49,\n",
              " 'from line in': 89,\n",
              " 'line in section': 143,\n",
              " 'the standard': 237,\n",
              " 'standard chunk': 222,\n",
              " 'chunk of': 34,\n",
              " 'ipsum used': 124,\n",
              " 'used since': 265,\n",
              " 'since the': 218,\n",
              " 'the is': 232,\n",
              " 'is reproduced': 128,\n",
              " 'reproduced below': 205,\n",
              " 'below for': 22,\n",
              " 'for those': 80,\n",
              " 'those interested': 253,\n",
              " 'the standard chunk': 238,\n",
              " 'standard chunk of': 223,\n",
              " 'chunk of lorem': 35,\n",
              " 'lorem ipsum used': 158,\n",
              " 'ipsum used since': 125,\n",
              " 'used since the': 266,\n",
              " 'since the is': 219,\n",
              " 'the is reproduced': 233,\n",
              " 'is reproduced below': 129,\n",
              " 'reproduced below for': 206,\n",
              " 'below for those': 23,\n",
              " 'for those interested': 81,\n",
              " 'and from': 8,\n",
              " 'from de': 86,\n",
              " 'malorum by': 161,\n",
              " 'cicero are': 36,\n",
              " 'are also': 14,\n",
              " 'also reproduced': 2,\n",
              " 'reproduced in': 207,\n",
              " 'in their': 110,\n",
              " 'their exact': 247,\n",
              " 'exact original': 72,\n",
              " 'original form': 190,\n",
              " 'form accompanied': 82,\n",
              " 'accompanied by': 0,\n",
              " 'by english': 31,\n",
              " 'english versions': 63,\n",
              " 'versions from': 267,\n",
              " 'from the': 94,\n",
              " 'the translation': 241,\n",
              " 'translation by': 258,\n",
              " 'by rackham': 33,\n",
              " 'sections and from': 214,\n",
              " 'and from de': 9,\n",
              " 'from de finibus': 87,\n",
              " 'et malorum by': 66,\n",
              " 'malorum by cicero': 162,\n",
              " 'by cicero are': 29,\n",
              " 'cicero are also': 37,\n",
              " 'are also reproduced': 15,\n",
              " 'also reproduced in': 3,\n",
              " 'reproduced in their': 208,\n",
              " 'in their exact': 111,\n",
              " 'their exact original': 248,\n",
              " 'exact original form': 73,\n",
              " 'original form accompanied': 191,\n",
              " 'form accompanied by': 83,\n",
              " 'accompanied by english': 1,\n",
              " 'by english versions': 32,\n",
              " 'english versions from': 64,\n",
              " 'versions from the': 268,\n",
              " 'from the translation': 95,\n",
              " 'the translation by': 242,\n",
              " 'translation by rackham': 259}"
            ]
          },
          "metadata": {},
          "execution_count": 27
        }
      ]
    },
    {
      "cell_type": "code",
      "source": [
        "corpus[0]"
      ],
      "metadata": {
        "colab": {
          "base_uri": "https://localhost:8080/",
          "height": 35
        },
        "id": "QTvBOxS3JzDz",
        "outputId": "3c35d934-e0c9-483a-c052-4f2390f06c91"
      },
      "execution_count": 28,
      "outputs": [
        {
          "output_type": "execute_result",
          "data": {
            "text/plain": [
              "'contrary to popular belief  lorem ipsum is not simply random text '"
            ],
            "application/vnd.google.colaboratory.intrinsic+json": {
              "type": "string"
            }
          },
          "metadata": {},
          "execution_count": 28
        }
      ]
    },
    {
      "cell_type": "code",
      "source": [
        "C[0]"
      ],
      "metadata": {
        "colab": {
          "base_uri": "https://localhost:8080/"
        },
        "id": "RerVCjQnJVeV",
        "outputId": "57bc3364-22d9-4e8e-9980-b7dba81f1892"
      },
      "execution_count": 29,
      "outputs": [
        {
          "output_type": "execute_result",
          "data": {
            "text/plain": [
              "array([0, 0, 0, 0, 0, 0, 0, 0, 0, 0, 0, 0, 0, 0, 0, 0, 0, 0, 0, 0, 1, 1,\n",
              "       0, 0, 0, 0, 0, 0, 0, 0, 0, 0, 0, 0, 0, 0, 0, 0, 0, 0, 0, 0, 0, 0,\n",
              "       0, 0, 0, 0, 0, 0, 0, 0, 0, 1, 1, 0, 0, 0, 0, 0, 0, 0, 0, 0, 0, 0,\n",
              "       0, 0, 0, 0, 0, 0, 0, 0, 0, 0, 0, 0, 0, 0, 0, 0, 0, 0, 0, 0, 0, 0,\n",
              "       0, 0, 0, 0, 0, 0, 0, 0, 0, 0, 0, 0, 0, 0, 0, 0, 0, 0, 0, 0, 0, 0,\n",
              "       0, 0, 0, 0, 0, 0, 0, 0, 1, 1, 0, 0, 0, 0, 0, 0, 1, 1, 0, 0, 0, 0,\n",
              "       0, 0, 0, 0, 0, 0, 0, 0, 0, 0, 0, 0, 0, 0, 0, 0, 0, 0, 0, 0, 1, 0,\n",
              "       0, 1, 0, 0, 0, 0, 0, 0, 0, 0, 0, 0, 0, 0, 0, 1, 1, 0, 0, 0, 0, 0,\n",
              "       0, 0, 0, 0, 0, 0, 0, 0, 0, 0, 0, 0, 0, 0, 0, 0, 0, 0, 0, 0, 0, 0,\n",
              "       1, 1, 0, 0, 0, 0, 1, 0, 0, 0, 0, 0, 0, 0, 0, 0, 0, 0, 1, 1, 0, 0,\n",
              "       0, 0, 0, 0, 0, 0, 0, 0, 0, 0, 0, 0, 0, 0, 0, 0, 0, 0, 0, 0, 0, 0,\n",
              "       0, 0, 0, 0, 0, 0, 0, 0, 0, 0, 0, 0, 0, 0, 1, 1, 0, 0, 0, 0, 0, 0,\n",
              "       0, 0, 0, 0, 0, 0, 0, 0, 0, 0, 0, 0, 0, 0, 0, 0])"
            ]
          },
          "metadata": {},
          "execution_count": 29
        }
      ]
    },
    {
      "cell_type": "code",
      "source": [
        "from sklearn.feature_extraction.text import TfidfVectorizer\n",
        "cv = TfidfVectorizer(ngram_range=(2,3));\n",
        "# max_features = 3 takes top 3 features\n",
        "\n",
        "X = cv.fit_transform(corpus)"
      ],
      "metadata": {
        "id": "KMe51ZlsJuJx"
      },
      "execution_count": 39,
      "outputs": []
    },
    {
      "cell_type": "code",
      "source": [
        "X[0].toarray()"
      ],
      "metadata": {
        "colab": {
          "base_uri": "https://localhost:8080/"
        },
        "id": "gQIhCXYbyu_o",
        "outputId": "2bc04eb9-ad36-4076-8a66-c485e57d2e1b"
      },
      "execution_count": 40,
      "outputs": [
        {
          "output_type": "execute_result",
          "data": {
            "text/plain": [
              "array([[0.        , 0.        , 0.        , 0.        , 0.        ,\n",
              "        0.        , 0.        , 0.        , 0.        , 0.        ,\n",
              "        0.        , 0.        , 0.        , 0.        , 0.        ,\n",
              "        0.        , 0.        , 0.        , 0.        , 0.        ,\n",
              "        0.23366639, 0.23366639, 0.        , 0.        , 0.        ,\n",
              "        0.        , 0.        , 0.        , 0.        , 0.        ,\n",
              "        0.        , 0.        , 0.        , 0.        , 0.        ,\n",
              "        0.        , 0.        , 0.        , 0.        , 0.        ,\n",
              "        0.        , 0.        , 0.        , 0.        , 0.        ,\n",
              "        0.        , 0.        , 0.        , 0.        , 0.        ,\n",
              "        0.        , 0.        , 0.        , 0.23366639, 0.23366639,\n",
              "        0.        , 0.        , 0.        , 0.        , 0.        ,\n",
              "        0.        , 0.        , 0.        , 0.        , 0.        ,\n",
              "        0.        , 0.        , 0.        , 0.        , 0.        ,\n",
              "        0.        , 0.        , 0.        , 0.        , 0.        ,\n",
              "        0.        , 0.        , 0.        , 0.        , 0.        ,\n",
              "        0.        , 0.        , 0.        , 0.        , 0.        ,\n",
              "        0.        , 0.        , 0.        , 0.        , 0.        ,\n",
              "        0.        , 0.        , 0.        , 0.        , 0.        ,\n",
              "        0.        , 0.        , 0.        , 0.        , 0.        ,\n",
              "        0.        , 0.        , 0.        , 0.        , 0.        ,\n",
              "        0.        , 0.        , 0.        , 0.        , 0.        ,\n",
              "        0.        , 0.        , 0.        , 0.        , 0.        ,\n",
              "        0.        , 0.        , 0.        , 0.23366639, 0.23366639,\n",
              "        0.        , 0.        , 0.        , 0.        , 0.        ,\n",
              "        0.        , 0.23366639, 0.23366639, 0.        , 0.        ,\n",
              "        0.        , 0.        , 0.        , 0.        , 0.        ,\n",
              "        0.        , 0.        , 0.        , 0.        , 0.        ,\n",
              "        0.        , 0.        , 0.        , 0.        , 0.        ,\n",
              "        0.        , 0.        , 0.        , 0.        , 0.        ,\n",
              "        0.        , 0.        , 0.13115008, 0.        , 0.        ,\n",
              "        0.23366639, 0.        , 0.        , 0.        , 0.        ,\n",
              "        0.        , 0.        , 0.        , 0.        , 0.        ,\n",
              "        0.        , 0.        , 0.        , 0.        , 0.23366639,\n",
              "        0.23366639, 0.        , 0.        , 0.        , 0.        ,\n",
              "        0.        , 0.        , 0.        , 0.        , 0.        ,\n",
              "        0.        , 0.        , 0.        , 0.        , 0.        ,\n",
              "        0.        , 0.        , 0.        , 0.        , 0.        ,\n",
              "        0.        , 0.        , 0.        , 0.        , 0.        ,\n",
              "        0.        , 0.        , 0.        , 0.23366639, 0.23366639,\n",
              "        0.        , 0.        , 0.        , 0.        , 0.23366639,\n",
              "        0.        , 0.        , 0.        , 0.        , 0.        ,\n",
              "        0.        , 0.        , 0.        , 0.        , 0.        ,\n",
              "        0.        , 0.23366639, 0.23366639, 0.        , 0.        ,\n",
              "        0.        , 0.        , 0.        , 0.        , 0.        ,\n",
              "        0.        , 0.        , 0.        , 0.        , 0.        ,\n",
              "        0.        , 0.        , 0.        , 0.        , 0.        ,\n",
              "        0.        , 0.        , 0.        , 0.        , 0.        ,\n",
              "        0.        , 0.        , 0.        , 0.        , 0.        ,\n",
              "        0.        , 0.        , 0.        , 0.        , 0.        ,\n",
              "        0.        , 0.        , 0.        , 0.        , 0.        ,\n",
              "        0.        , 0.23366639, 0.23366639, 0.        , 0.        ,\n",
              "        0.        , 0.        , 0.        , 0.        , 0.        ,\n",
              "        0.        , 0.        , 0.        , 0.        , 0.        ,\n",
              "        0.        , 0.        , 0.        , 0.        , 0.        ,\n",
              "        0.        , 0.        , 0.        , 0.        , 0.        ]])"
            ]
          },
          "metadata": {},
          "execution_count": 40
        }
      ]
    },
    {
      "cell_type": "code",
      "source": [],
      "metadata": {
        "id": "OdJOjXiOy2Yh"
      },
      "execution_count": 40,
      "outputs": []
    }
  ]
}